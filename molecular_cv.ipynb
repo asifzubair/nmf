{
 "cells": [
  {
   "cell_type": "code",
   "execution_count": 1,
   "id": "ce5088bc",
   "metadata": {},
   "outputs": [],
   "source": [
    "import numpy as np\n",
    "import pandas as pd\n",
    "from matplotlib import pyplot as plt\n",
    "import scanpy as sc\n",
    "\n",
    "from molecular_cross_validation.mcv_sweep import GridSearchMCV\n",
    "from molecular_cross_validation.util import poisson_fit"
   ]
  },
  {
   "cell_type": "code",
   "execution_count": 2,
   "id": "dc846bc7",
   "metadata": {},
   "outputs": [],
   "source": [
    "import molecular_cross_validation.util as ut\n",
    "from sklearn.utils.extmath import randomized_svd\n",
    "from sklearn.metrics import mean_squared_error"
   ]
  },
  {
   "cell_type": "code",
   "execution_count": 3,
   "id": "176b66e6",
   "metadata": {},
   "outputs": [],
   "source": [
    "import sys\n",
    "sys.path.append(\"../cNMF\")\n",
    "from cnmf import load_df_from_npz"
   ]
  },
  {
   "cell_type": "code",
   "execution_count": 4,
   "id": "b4313836",
   "metadata": {},
   "outputs": [],
   "source": [
    "def pca_sweep(umis, data_split = 0.9, n_trials = 1, true_counts = 5e5, max_components=20, spacing=1, seed=42):\n",
    "\n",
    "    seed = sum(map(ord, f\"biohub_{seed}\"))\n",
    "    random_state = np.random.RandomState(seed)\n",
    "\n",
    "    k_range = np.arange(1, max_components + 1, spacing)\n",
    "\n",
    "    mcv_loss = np.empty((n_trials, k_range.shape[0]), dtype=float)\n",
    "\n",
    "    data_split, data_split_complement, overlap = ut.overlap_correction(\n",
    "        data_split, umis.sum(1, keepdims=True) / true_counts\n",
    "    )\n",
    "\n",
    "    # run n_trials for self-supervised sweep\n",
    "    for i in range(n_trials):\n",
    "        umis_X, umis_Y = ut.split_molecules(umis, data_split, overlap, random_state)\n",
    "\n",
    "        umis_X = np.sqrt(umis_X)\n",
    "        umis_Y = np.sqrt(umis_Y)\n",
    "\n",
    "        U, S, V = randomized_svd(umis_X, n_components=max_components)\n",
    "        US = U.dot(np.diag(S))\n",
    "\n",
    "        for j, k in enumerate(k_range):\n",
    "            pca_X = US[:, :k].dot(V[:k, :])\n",
    "            conv_exp = ut.convert_exp_sqrt(pca_X, data_split, data_split_complement)\n",
    "\n",
    "            mcv_loss[i, j] = mean_squared_error(umis_Y, conv_exp)\n",
    "    \n",
    "    return k_range, mcv_loss"
   ]
  },
  {
   "cell_type": "code",
   "execution_count": 5,
   "id": "5d92d98c",
   "metadata": {},
   "outputs": [],
   "source": [
    "umis = load_df_from_npz(\"data/Part1_Simulations/deloc_1.00/Seed_12045/counts.npz\").values"
   ]
  },
  {
   "cell_type": "code",
   "execution_count": 6,
   "id": "e40bee7e",
   "metadata": {},
   "outputs": [],
   "source": [
    "poisson_p_val = poisson_fit(umis)"
   ]
  },
  {
   "cell_type": "code",
   "execution_count": 7,
   "id": "121c7eb0",
   "metadata": {},
   "outputs": [],
   "source": [
    "umis = umis[:, poisson_p_val < 0.01]"
   ]
  },
  {
   "cell_type": "code",
   "execution_count": 8,
   "id": "1d18182b",
   "metadata": {},
   "outputs": [],
   "source": [
    "k_range, mcv_loss = pca_sweep(umis, max_components=120, spacing=2)"
   ]
  },
  {
   "cell_type": "code",
   "execution_count": 9,
   "id": "1dc0b13d",
   "metadata": {},
   "outputs": [
    {
     "data": {
      "text/plain": [
       "[<matplotlib.lines.Line2D at 0x7fc2d9e74940>]"
      ]
     },
     "execution_count": 9,
     "metadata": {},
     "output_type": "execute_result"
    },
    {
     "data": {
      "image/png": "[encoded data removed]",
      "text/plain": [
       "<Figure size 432x288 with 1 Axes>"
      ]
     },
     "metadata": {
      "needs_background": "light"
     },
     "output_type": "display_data"
    }
   ],
   "source": [
    "plt.plot(k_range, mcv_loss[0])"
   ]
  },
  {
   "cell_type": "code",
   "execution_count": 10,
   "id": "9cbd3d1e",
   "metadata": {},
   "outputs": [
    {
     "data": {
      "text/plain": [
       "119"
      ]
     },
     "execution_count": 10,
     "metadata": {},
     "output_type": "execute_result"
    }
   ],
   "source": [
    "k_range[np.argmin(mcv_loss[0])]"
   ]
  }
 ],
 "metadata": {
  "kernelspec": {
   "display_name": "Python 3",
   "language": "python",
   "name": "python3"
  },
  "language_info": {
   "codemirror_mode": {
    "name": "ipython",
    "version": 3
   },
   "file_extension": ".py",
   "mimetype": "text/x-python",
   "name": "python",
   "nbconvert_exporter": "python",
   "pygments_lexer": "ipython3",
   "version": "3.7.0"
  }
 },
 "nbformat": 4,
 "nbformat_minor": 5
}
